{
  "nbformat": 4,
  "nbformat_minor": 0,
  "metadata": {
    "colab": {
      "provenance": [],
      "authorship_tag": "ABX9TyMbIJ6fV8qgG12NHEA+XPdy",
      "include_colab_link": true
    },
    "kernelspec": {
      "name": "python3",
      "display_name": "Python 3"
    },
    "language_info": {
      "name": "python"
    }
  },
  "cells": [
    {
      "cell_type": "markdown",
      "metadata": {
        "id": "view-in-github",
        "colab_type": "text"
      },
      "source": [
        "<a href=\"https://colab.research.google.com/github/TayyabaRafiq/oopsAssignment6-1To21/blob/main/assignment6_Traditional_OOP_Practice_Series.ipynb\" target=\"_parent\"><img src=\"https://colab.research.google.com/assets/colab-badge.svg\" alt=\"Open In Colab\"/></a>"
      ]
    },
    {
      "cell_type": "markdown",
      "source": [
        "# 1. Using self\n",
        "## Assignment:\n",
        "\n",
        "Create a class Student with attributes name and marks. Use the self keyword to initialize these values via a constructor. Add a method display() that prints student details."
      ],
      "metadata": {
        "id": "GZNCRxmkFQag"
      }
    },
    {
      "cell_type": "code",
      "source": [
        "print(\"1.using self :\")\n",
        "class Student:\n",
        "  def __init__(self, name, marks):   # constructor\n",
        "    self.name = name                 # Public attribute, Instance Variable\n",
        "    self.marks =marks\n",
        "\n",
        "  def display(self):\n",
        "    print(\"Student Name:\" , self.name)\n",
        "    print(\"Student Marks:\"  , self.marks)\n",
        "\n",
        " # Instantiating object\n",
        "student1 = Student(\"Abdulhadi\" , 85)\n",
        "student1.display()\n",
        "\n",
        "student2 = Student(\"Umm-e-Hani\" , 95)\n",
        "student2.display()\n"
      ],
      "metadata": {
        "colab": {
          "base_uri": "https://localhost:8080/"
        },
        "id": "IOuc-t6yFiJ5",
        "outputId": "3363d881-de81-4f44-cba0-ce4407257b56"
      },
      "execution_count": null,
      "outputs": [
        {
          "output_type": "stream",
          "name": "stdout",
          "text": [
            "1.using self :\n",
            "Student Name: Abdulhadi\n",
            "Student Marks: 85\n",
            "Student Name: Umm-e-Hani\n",
            "Student Marks: 95\n"
          ]
        }
      ]
    },
    {
      "cell_type": "markdown",
      "source": [
        "2. Using cls\n",
        "## Assignment:\n",
        "\n",
        "Create a class Counter that keeps track of how many objects have been created. Use a class variable and a class method with cls to manage and display the count."
      ],
      "metadata": {
        "id": "BebOw4SPKQ8Y"
      }
    },
    {
      "cell_type": "code",
      "source": [
        "print(\"2. Using cls:\")\n",
        "class Counter:\n",
        "  object_count = 0\n",
        "\n",
        "  def __init__(self):\n",
        "    Counter.object_count += 1  # as object created add one\n",
        "\n",
        "  @classmethod\n",
        "  def display_count(cls):\n",
        "    print(\"Total objects created:\" , cls.object_count)\n",
        "\n",
        "# create objects:\n",
        "obj1 = Counter()\n",
        "obj2 = Counter()\n",
        "obj3 = Counter()\n",
        "obj4 = Counter()\n",
        "obj5 = Counter()\n",
        "\n",
        "# call class method\n",
        "Counter.display_count()"
      ],
      "metadata": {
        "colab": {
          "base_uri": "https://localhost:8080/"
        },
        "id": "vB0iXn_sKhuN",
        "outputId": "8426568c-a0a4-415d-96ff-7b5ca29d0475"
      },
      "execution_count": null,
      "outputs": [
        {
          "output_type": "stream",
          "name": "stdout",
          "text": [
            "2. Using cls:\n",
            "Total objects created: 5\n"
          ]
        }
      ]
    },
    {
      "cell_type": "markdown",
      "source": [
        "# 3. Public Variables and Methods\n",
        "Assignment:\n",
        "\n",
        "Create a class Car with a public variable brand and a public method start(). Instantiate the class and access both from outside the class."
      ],
      "metadata": {
        "id": "5xsN3Hc8N6Kz"
      }
    },
    {
      "cell_type": "code",
      "source": [
        "class Car:\n",
        "  def __init__(self, brand):\n",
        "    self.brand = brand      # public variable\n",
        "  def start(self):          # public method\n",
        "    print(f\"{self.brand} car is starting....\")\n",
        "\n",
        "# Instantiate the class\n",
        "my_car = Car(\"Toyota Corolla\")\n",
        "\n",
        "# public variable access\n",
        "print(\"Car brand:\" , my_car.brand)\n",
        "\n",
        "# public method call\n",
        "my_car.start()\n"
      ],
      "metadata": {
        "colab": {
          "base_uri": "https://localhost:8080/"
        },
        "id": "2ksrzXQSOH-y",
        "outputId": "3040f4d1-dec4-486e-b1a5-b77b38a4ed47"
      },
      "execution_count": null,
      "outputs": [
        {
          "output_type": "stream",
          "name": "stdout",
          "text": [
            "Car brand: Toyota Corolla\n",
            "Toyota Corolla car is starting....\n"
          ]
        }
      ]
    },
    {
      "cell_type": "markdown",
      "source": [
        "# 4. Class Variables and Class Methods\n",
        "Assignment:\n",
        "\n",
        "Create a class Bank with a class variable bank_name. Add a class method change_bank_name(cls, name) that allows changing the bank name. Show that it affects all instances."
      ],
      "metadata": {
        "id": "vRuyBmcjRSKn"
      }
    },
    {
      "cell_type": "code",
      "source": [
        "class Bank:\n",
        "  bank_name = \"NBP\"   # class variable\n",
        "\n",
        "  def __init__(self, account_holder):\n",
        "    self.account_holder = account_holder\n",
        "\n",
        "  @classmethod\n",
        "  def change_bank_name(cls, name):\n",
        "      cls.bank_name = name     # update class variable\n",
        "\n",
        "  def display(self):\n",
        "      print(f\"Account holder: {self.account_holder} , Bank: {Bank.bank_name}\" )\n",
        "\n",
        "# create object\n",
        "user1 = Bank(\"Ali Owais\")\n",
        "user2 = Bank(\"Tayyaba\")\n",
        "\n",
        "# previous Bank name, call display\n",
        "user1.display()\n",
        "user2.display()\n",
        "\n",
        "# change Bank name using class method\n",
        "Bank.change_bank_name(\"Habib Bank\")\n",
        "\n",
        "# Changed Bank name\n",
        "user1.display()\n",
        "user2.display()\n",
        "\n",
        "\n",
        "\n",
        "\n",
        "\n",
        "\n"
      ],
      "metadata": {
        "colab": {
          "base_uri": "https://localhost:8080/"
        },
        "id": "bCqq8LYxRetj",
        "outputId": "ea54c577-582b-4167-b218-6c19e3c56105"
      },
      "execution_count": null,
      "outputs": [
        {
          "output_type": "stream",
          "name": "stdout",
          "text": [
            "Account holder: Ali Owais , Bank: NBP\n",
            "Account holder: Tayyaba , Bank: NBP\n",
            "Account holder: Ali Owais , Bank: Habib Bank\n",
            "Account holder: Tayyaba , Bank: Habib Bank\n"
          ]
        }
      ]
    },
    {
      "cell_type": "markdown",
      "source": [
        "# 5. Static Variables and Static Methods\n",
        "Assignment:\n",
        "\n",
        "Create a class MathUtils with a static method add(a, b) that returns the sum. No class or instance variables should be used."
      ],
      "metadata": {
        "id": "CwgapHxtXo61"
      }
    },
    {
      "cell_type": "code",
      "source": [
        "class MathUtils:\n",
        "\n",
        "  @staticmethod\n",
        "  def add(a , b):\n",
        "    return a + b\n",
        "\n",
        "  # static method call no (object needed)\n",
        "result = MathUtils.add(20 , 5)\n",
        "print(\"The sum is: \" , result)\n"
      ],
      "metadata": {
        "colab": {
          "base_uri": "https://localhost:8080/"
        },
        "id": "zquB2SsUXyDm",
        "outputId": "ea2a8a34-8b31-4217-d705-a9ab3a95ec37"
      },
      "execution_count": null,
      "outputs": [
        {
          "output_type": "stream",
          "name": "stdout",
          "text": [
            "The sum is:  25\n"
          ]
        }
      ]
    },
    {
      "cell_type": "markdown",
      "source": [
        "# 6. Constructors and Destructors\n",
        "Assignment:\n",
        "\n",
        "Create a class Logger that prints a message when an object is created (constructor) and another message when it is destroyed (destructor)."
      ],
      "metadata": {
        "id": "cmf-I3TIaC2G"
      }
    },
    {
      "cell_type": "code",
      "source": [
        "class Logger:\n",
        "\n",
        "  def __init__(self):    # constructor\n",
        "    print(\"Logger object has been created.\")\n",
        "\n",
        "  def __del__(self):     # destructor\n",
        "    print(\"Logger object has been destroyed.\")\n",
        "\n",
        "# Create an object of Logger class\n",
        "logger1 = Logger()\n",
        "\n",
        "# Delete the object explicitly to invoke the destructor\n",
        "del logger1\n"
      ],
      "metadata": {
        "colab": {
          "base_uri": "https://localhost:8080/"
        },
        "id": "KQN5WG81aMDy",
        "outputId": "e643fb16-a39c-433f-eaf5-3b28fadb5e0c"
      },
      "execution_count": null,
      "outputs": [
        {
          "output_type": "stream",
          "name": "stdout",
          "text": [
            "Logger object has been created.\n",
            "Logger object has been destroyed.\n"
          ]
        }
      ]
    },
    {
      "cell_type": "markdown",
      "source": [
        "# 7. Access Modifiers: Public, Private, and Protected\n",
        "Assignment:\n",
        "\n",
        "Create a class Employee with:\n",
        "\n",
        "a public variable name,\n",
        "\n",
        "a protected variable _salary, and\n",
        "\n",
        "a private variable __ssn.\n",
        "\n",
        "Try accessing all three variables from an object of the class and document what happens."
      ],
      "metadata": {
        "id": "Li_8NsRGcIpf"
      }
    },
    {
      "cell_type": "code",
      "source": [
        "\n",
        "class Employee:\n",
        "  # public variable\n",
        "   name = \"Ali\"\n",
        "\n",
        "  # protected variable\n",
        "   _salary = 50000\n",
        "\n",
        "  # Private variable\n",
        "   __ssn = \"123-45-6789\"\n",
        "\n",
        "  # creating object\n",
        "emp = Employee()\n",
        "\n",
        "# Access the public variable\n",
        "print(\"Name:\" , emp.name)\n",
        "\n",
        "# Access the protected variable\n",
        "print(\"Salary:\", emp._salary)\n",
        "\n",
        "# Access the Private variable (This will raise an error)\n",
        "try:\n",
        "  print(\"Ssn No.:\", emp.__ssn)\n",
        "except AttributeError as e:\n",
        "  print(\"Error:\" , e)\n",
        "\n",
        "# Access the private variable via name Mangling\n",
        "print(\"Ssn (via name Mangling): \", emp._Employee__ssn)\n"
      ],
      "metadata": {
        "colab": {
          "base_uri": "https://localhost:8080/"
        },
        "id": "vn6HH9pTcRTs",
        "outputId": "769b578f-a0fb-41a5-ccb1-1bf2b7d44081"
      },
      "execution_count": null,
      "outputs": [
        {
          "output_type": "stream",
          "name": "stdout",
          "text": [
            "Name: Ali\n",
            "Salary: 50000\n",
            "Error: 'Employee' object has no attribute '__ssn'\n",
            "Ssn (via name Mangling):  123-45-6789\n"
          ]
        }
      ]
    },
    {
      "cell_type": "markdown",
      "source": [
        "# 8. The super() Function\n",
        "Assignment:\n",
        "\n",
        "Create a class Person with a constructor that sets the name. Inherit a class Teacher from it, add a subject field, and use super() to call the base class constructor."
      ],
      "metadata": {
        "id": "aHOzhX_MgtgP"
      }
    },
    {
      "cell_type": "code",
      "source": [
        "# Base class Person\n",
        "class Person:\n",
        "  def __init__(self, name):\n",
        "    self.name = name\n",
        "\n",
        "# Derived class Teacher\n",
        "class Teacher(Person):\n",
        "  def __init__(self, name, subject):\n",
        "    # calling the base class constructor using super() fuction\n",
        "    super().__init__(name)\n",
        "    self.subject = subject\n",
        "\n",
        "  def display(self):\n",
        "    print(f\"Name: {self.name}\")\n",
        "    print(f\"Subject: {self.subject}\")\n",
        "\n",
        "  # creating object of derived(child) class Teacher\n",
        "teacher = Teacher(\"Mr. Ali Aftab\" , \"Next.js\")\n",
        "\n",
        "# display details of teacher\n",
        "teacher.display()\n"
      ],
      "metadata": {
        "colab": {
          "base_uri": "https://localhost:8080/"
        },
        "id": "A6zBHAULg21e",
        "outputId": "6f8c7dd4-f64d-448a-9763-554aa329deef"
      },
      "execution_count": null,
      "outputs": [
        {
          "output_type": "stream",
          "name": "stdout",
          "text": [
            "Name: Mr. Ali Aftab\n",
            "Subject: Next.js\n"
          ]
        }
      ]
    },
    {
      "cell_type": "markdown",
      "source": [
        "# 9. Abstract Classes and Methods\n",
        "Assignment:\n",
        "\n",
        "Use the abc module to create an abstract class Shape with an abstract method area(). Inherit a class Rectangle that implements area()."
      ],
      "metadata": {
        "id": "xgWnii0ajsXh"
      }
    },
    {
      "cell_type": "code",
      "source": [
        "from abc import ABC , abstractmethod\n",
        "\n",
        "# Abstract class shape\n",
        "class Shape(ABC):\n",
        "  @abstractmethod\n",
        "  def area(self):\n",
        "    pass\n",
        "\n",
        "# class Rectangle that inherits from Shape and implements the area method\n",
        "class Rectangle(Shape):\n",
        "  def __init__(self, width, height):\n",
        "    self.width = width\n",
        "    self.height = height\n",
        "\n",
        "  def area(self):\n",
        "    return self.width * self.height\n",
        "\n",
        "  # creating an object of Rectangle and calling the area method\n",
        "rect = Rectangle(6,10)\n",
        "print(f\"Area of Rectangle: {rect.area()}\")\n"
      ],
      "metadata": {
        "colab": {
          "base_uri": "https://localhost:8080/"
        },
        "id": "eOBan-eIj60d",
        "outputId": "9ec712d3-ae54-4b17-dd85-0677916986ac"
      },
      "execution_count": null,
      "outputs": [
        {
          "output_type": "stream",
          "name": "stdout",
          "text": [
            "Area of Rectangle: 60\n"
          ]
        }
      ]
    },
    {
      "cell_type": "markdown",
      "source": [
        "\n",
        "# 10. Instance Methods\n",
        "Assignment:\n",
        "\n",
        "Create a class Dog with instance variables name and breed. Add an instance method bark() that prints a message including the dog's name."
      ],
      "metadata": {
        "id": "lzCF_5kdnYFH"
      }
    },
    {
      "cell_type": "code",
      "source": [
        "class Dog:\n",
        "  def __init__(self, name, breed):\n",
        "    # Instance variables\n",
        "    self.name = name\n",
        "    self.breed = breed\n",
        "\n",
        "  def bark(self):\n",
        "    print(f\"{self.name} eats {self.breed} and says woof!\")\n",
        "\n",
        "  # creating an object of Dog class\n",
        "dog1 = Dog(\"Tommy\",\"Golden Retriever\")\n",
        "\n",
        " # calling the bark method\n",
        "dog1.bark()\n",
        "\n"
      ],
      "metadata": {
        "colab": {
          "base_uri": "https://localhost:8080/"
        },
        "id": "BI8VcGl5nrGV",
        "outputId": "517aefa8-67b9-4381-bfe4-b876cc8cd05b"
      },
      "execution_count": null,
      "outputs": [
        {
          "output_type": "stream",
          "name": "stdout",
          "text": [
            "Tommy eats Golden Retriever and says woof!\n"
          ]
        }
      ]
    },
    {
      "cell_type": "markdown",
      "source": [
        "# 11. Class Methods\n",
        "Assignment:\n",
        "\n",
        "Create a class Book with a class variable total_books. Add a class method increment_book_count() to increase the count when a new book is added."
      ],
      "metadata": {
        "id": "cIeWpkxRpvoY"
      }
    },
    {
      "cell_type": "code",
      "source": [
        "class Book:\n",
        "  # class variable to track the total number of books\n",
        "  total_books = 0\n",
        "\n",
        "  @classmethod\n",
        "  def increment_book_count(cls):\n",
        "    cls.total_books += 1\n",
        "\n",
        "  def __init__(self, title, author):\n",
        "    self.title = title\n",
        "    self.author = author\n",
        "    # call the class method to increment the book count when the new book is creates\n",
        "    Book.increment_book_count()\n",
        "\n",
        "  # creating new book objects\n",
        "book1 = Book(\"The Great Gatsby\", \"F. Scott Fitzgerald\")\n",
        "book2 = Book(\"The Catcher in the Rye\", \"J.D. Salinger\")\n",
        "\n",
        "  # Access the class variable\n",
        "print(f\"Total books: {Book.total_books}\")\n"
      ],
      "metadata": {
        "id": "fbTAzLkRp59i",
        "colab": {
          "base_uri": "https://localhost:8080/"
        },
        "outputId": "9d1a53a4-5912-46ee-ff9a-5b93b750924a"
      },
      "execution_count": null,
      "outputs": [
        {
          "output_type": "stream",
          "name": "stdout",
          "text": [
            "Total books: 2\n"
          ]
        }
      ]
    },
    {
      "cell_type": "markdown",
      "source": [
        "# 12. Static Methods\n",
        "Assignment:\n",
        "\n",
        "Create a class TemperatureConverter with a static method celsius_to_fahrenheit(c) that returns the Fahrenheit value."
      ],
      "metadata": {
        "id": "VFsKvt9T_-38"
      }
    },
    {
      "cell_type": "code",
      "source": [
        "class TemperatureConverter:\n",
        "  @staticmethod\n",
        "  def celsius_to_fahrenheit(c):\n",
        "    # Formula to convert Celsius to Fahrenheit\n",
        "    return (c * 9/5) + 32\n",
        "\n",
        "  #Callling the static method without creating an instance of the class\n",
        "celsius = 37\n",
        "fahrenheit = TemperatureConverter.celsius_to_fahrenheit(celsius)\n",
        "print(f\"{celsius} °C = {fahrenheit} °F\")"
      ],
      "metadata": {
        "colab": {
          "base_uri": "https://localhost:8080/"
        },
        "id": "BDHWOREfALsd",
        "outputId": "4cd5df88-800f-483b-c55c-c7f0898bccce"
      },
      "execution_count": null,
      "outputs": [
        {
          "output_type": "stream",
          "name": "stdout",
          "text": [
            "37 °C = 98.6 °F\n"
          ]
        }
      ]
    },
    {
      "cell_type": "markdown",
      "source": [
        "# 13. Composition\n",
        "Assignment:\n",
        "\n",
        "Create a class Engine and a class Car. Use composition by passing an Engine object to the Car class during initialization. Access a method of the Engine class via the Car class.\n",
        "\n"
      ],
      "metadata": {
        "id": "B_EkuDmfEagP"
      }
    },
    {
      "cell_type": "code",
      "source": [
        "class Engine:\n",
        "  def __init__(self, engine_type):\n",
        "    self.engine_type = engine_type\n",
        "\n",
        "  def start(self):\n",
        "    return f\"The {self.engine_type} engine is starting...\"\n",
        "\n",
        "class Car:\n",
        "  def __init__(self, brand, engine):\n",
        "    self.brand = brand\n",
        "    # composition: passing an Engine object to the car class\n",
        "    self.engine = engine\n",
        "\n",
        "  def start_car(self):\n",
        "    # Accessing the start method of the Engine class via the car class\n",
        "    return f\"{self.brand} car is starting... {self.engine.start()}\"\n",
        "\n",
        "  # Creating an Engine object\n",
        "engine = Engine(\"V6\")\n",
        "\n",
        "  # Creating a car object and passing the Engine object to it\n",
        "car = Car(\"Toyota\", engine)\n",
        "\n",
        " # calling the start_car method which uses the Engine's start method\n",
        "print(car.start_car())\n"
      ],
      "metadata": {
        "colab": {
          "base_uri": "https://localhost:8080/"
        },
        "id": "T1oDnAV-EjUS",
        "outputId": "94533d0d-2c78-4897-d55f-d2dde7b33075"
      },
      "execution_count": null,
      "outputs": [
        {
          "output_type": "stream",
          "name": "stdout",
          "text": [
            "Toyota car is starting... The V6 engine is starting...\n"
          ]
        }
      ]
    },
    {
      "cell_type": "markdown",
      "source": [
        "# 14. Aggregation\n",
        "Assignment:\n",
        "\n",
        "Create a class Department and a class Employee. Use aggregation by having a Department object store a reference to an Employee object that exists independently of it."
      ],
      "metadata": {
        "id": "_mLfRFOULNVQ"
      }
    },
    {
      "cell_type": "code",
      "source": [
        "class Employee:\n",
        "  def __init__(self, name, position):\n",
        "    self.name = name\n",
        "    self.position = position\n",
        "\n",
        "  def get_employ_info(self):\n",
        "    return f\"Employ Name: {self.name} , position {self.position}\"\n",
        "\n",
        "class Department:\n",
        "  def __init__(self, department_name, employee):\n",
        "    self.department_name = department_name\n",
        "    # Aggregation : storing a refrence to an Employee object\n",
        "    self.employee = employee\n",
        "\n",
        "  def get_department_info(self):\n",
        "    return f\"Department: {self.department_name}, Employee: {self.employee.get_employ_info()}\"\n",
        "\n",
        "  # creating an Employee object\n",
        "employee1 = Employee(\"Abdulhadi\", \"Software Engineer\")\n",
        "\n",
        "# creating a Department object and passing the Employee object to it\n",
        "department1 = Department(\"IT Department\", employee1)\n",
        "\n",
        "# calling the method to get department and employee info\n",
        "print(department1.get_department_info())"
      ],
      "metadata": {
        "colab": {
          "base_uri": "https://localhost:8080/"
        },
        "id": "cmk_JnTyLWda",
        "outputId": "8ed1c36b-e281-44a5-8b5e-07e2b7493185"
      },
      "execution_count": null,
      "outputs": [
        {
          "output_type": "stream",
          "name": "stdout",
          "text": [
            "Department: IT Department, Employee: Employ Name: Abdulhadi , position Software Engineer\n"
          ]
        }
      ]
    },
    {
      "cell_type": "markdown",
      "source": [
        "# 15. Method Resolution Order (MRO) and Diamond Inheritance\n",
        "MRO is the order in which Python looks for a method or attribute in a class hierarchy when you call it. In multiple inheritance\n",
        "      \n",
        "     \n",
        "      A    \n",
        "     / \\\n",
        "    B   C\n",
        "     \\ /\n",
        "      D\n",
        "\n",
        "\n",
        "\n",
        "\n",
        "\n",
        "Class B and C both inherit from A\n",
        "\n",
        "Class D inherits from both B and C\n",
        "\n",
        "All classes have a show() method.\n",
        "\n",
        "This is called a diamond inheritance because of the shape formed.\n",
        "\n",
        "Assignment:\n",
        "\n",
        "Create four classes:\n",
        "\n",
        "A with a method show(),\n",
        "\n",
        "B and C that inherit from A and override show(),\n",
        "\n",
        "D that inherits from both B and C.\n",
        "\n",
        "Create an object of D and call show() to observe MRO."
      ],
      "metadata": {
        "id": "AZ39bP7OQgCF"
      }
    },
    {
      "cell_type": "code",
      "source": [
        "class A:\n",
        "  def show(self):\n",
        "    print(\"This is class A\")\n",
        "\n",
        "class B(A):\n",
        "  def show(self):\n",
        "    print(\"This is class B\")\n",
        "\n",
        "class C(A):\n",
        "  def show(self):\n",
        "    print(\"This is class C\")\n",
        "\n",
        "class D(B,C):\n",
        "  pass\n",
        "\n",
        "  # creating an object of class D\n",
        "d = D()\n",
        "\n",
        "# calling the show() method to observe the Method Resolution Order (MRO)\n",
        "d.show()\n",
        "print(\"Python, finds show() in class B first, and stops searching.\")\n",
        "\n",
        "# printing the MRO to observe the order\n",
        "print(D.mro())\n"
      ],
      "metadata": {
        "colab": {
          "base_uri": "https://localhost:8080/"
        },
        "id": "ukuoJMMoQk5M",
        "outputId": "111eec65-72d5-4c15-dcf4-fb4d1ea3c393"
      },
      "execution_count": null,
      "outputs": [
        {
          "output_type": "stream",
          "name": "stdout",
          "text": [
            "This is class B\n",
            "Python, finds show() in class B first, and stops searching.\n",
            "[<class '__main__.D'>, <class '__main__.B'>, <class '__main__.C'>, <class '__main__.A'>, <class 'object'>]\n"
          ]
        }
      ]
    },
    {
      "cell_type": "markdown",
      "source": [
        "# 16. Function Decorators\n",
        "\n",
        "# A decorator is a special function that can wrap another function to add extra behavior without changing the original function's code.\n",
        "Assignment:\n",
        "\n",
        "Write a decorator function log_function_call that prints \"Function is being called\" before a function executes. Apply it to a function say_hello().\n",
        "\n"
      ],
      "metadata": {
        "id": "uBiZtIKqXcpH"
      }
    },
    {
      "cell_type": "code",
      "source": [
        "# Decorator function\n",
        "def log_function_call(func):\n",
        "  def wrapper():\n",
        "    print(\"Function is being called.\")\n",
        "    return func()  # call the original function\n",
        "  return wrapper\n",
        "\n",
        "# Function to be decorated\n",
        "@log_function_call\n",
        "def say_hello():\n",
        "  print(\"Hello, Pakistan!\")\n",
        "\n",
        "# calling the decorated function\n",
        "say_hello()"
      ],
      "metadata": {
        "colab": {
          "base_uri": "https://localhost:8080/"
        },
        "id": "S9nQc7uwM0GI",
        "outputId": "85ec4c30-210c-459b-b408-251ca212b6e8"
      },
      "execution_count": null,
      "outputs": [
        {
          "output_type": "stream",
          "name": "stdout",
          "text": [
            "Function is being called.\n",
            "Hello, Pakistan!\n"
          ]
        }
      ]
    },
    {
      "cell_type": "markdown",
      "source": [
        "# 17. Class Decorators\n",
        "\n",
        "A class decorator wraps a class.\n",
        "It allows us to add or modify features of a class, like adding new methods or changing behavior — without changing the original class definition.\n",
        "\n",
        "Assignment:\n",
        "\n",
        "Create a class decorator add_greeting that modifies a class to add a greet() method returning \"Hello from Decorator!\". Apply it to a class Person."
      ],
      "metadata": {
        "id": "vnwWFYjOQMaQ"
      }
    },
    {
      "cell_type": "code",
      "source": [
        "# class decorator\n",
        "def add_greeting(cls):\n",
        "  def greet(self):\n",
        "    return \"Hello from decorator!\"\n",
        "\n",
        "    # Add the greet method to the class\n",
        "  cls.greet = greet\n",
        "  return cls   # return the modified class\n",
        "\n",
        "  # Apply the class decorator to the person class\n",
        "@add_greeting\n",
        "class Person:\n",
        "    def __init__(self, name):\n",
        "      self.name = name\n",
        "\n",
        "    def introduce(self):\n",
        "      return f\"Hi, I'm {self.name}\"\n",
        "\n",
        "  # creating an instance of a person class\n",
        "person1 = Person(\"Ali\")\n",
        "\n",
        "# calling the greet method added by the decorator\n",
        "print(person1.greet())    # output Hello from decorator!\n",
        "print(person1.introduce())\n"
      ],
      "metadata": {
        "colab": {
          "base_uri": "https://localhost:8080/"
        },
        "id": "FclkdQePQ-sW",
        "outputId": "d15630ca-eb9c-46e5-c060-dd4f746b957a"
      },
      "execution_count": 1,
      "outputs": [
        {
          "output_type": "stream",
          "name": "stdout",
          "text": [
            "Hello from decorator!\n",
            "Hi, I'm Ali\n"
          ]
        }
      ]
    },
    {
      "cell_type": "markdown",
      "source": [
        "# 18. Property Decorators: @property, @setter, and @deleter\n",
        "Assignment:\n",
        "\n",
        "Create a class Product with a private attribute _price. Use @property to get the price, @price.setter to update it, and @price.deleter to delete it."
      ],
      "metadata": {
        "id": "tKcHE9aDXqMr"
      }
    },
    {
      "cell_type": "code",
      "source": [
        "class Product:\n",
        "  def __init__(self, name, price):\n",
        "    self.name = name\n",
        "    self.__price = price      # Private atribute\n",
        "\n",
        "  # Getter for the price attribute\n",
        "  @property\n",
        "  def price(self):\n",
        "    return self.__price\n",
        "\n",
        "  # Setter to update the price attribute\n",
        "  @price.setter\n",
        "  def price(self, value):\n",
        "    if value < 0:\n",
        "      print(\"Price can not be negative.\")\n",
        "    else:\n",
        "      self.__price = value\n",
        "\n",
        "  # Deleter to delete the price attribute\n",
        "  @price.deleter\n",
        "  def price(self):\n",
        "    print(f\"Deleting the price of {self.name}\")\n",
        "    del self.__price\n",
        "\n",
        "  # creating a product object\n",
        "product1 = Product(\"Laptop\", 20000)\n",
        "\n",
        "# Accessing the price using the @property\n",
        "print(product1.price)     # output:   20000\n",
        "\n",
        "# Updating the price using the @price.setter\n",
        "product1.price = 50000\n",
        "print(product1.price)    # output:   50000\n",
        "\n",
        "# Trying to set a negative price\n",
        "product1.price = -1000\n",
        "print(product1.price)    # output:  Price can not be negative\n",
        "\n",
        "# Deleting the price using @price.deleter\n",
        "del product1.price       # output: Deleting the price of Laptop\n",
        "\n",
        "\n",
        "\n",
        "\n",
        ""
      ],
      "metadata": {
        "colab": {
          "base_uri": "https://localhost:8080/"
        },
        "id": "d79gHEhwpNV3",
        "outputId": "ed135f3b-1005-4571-a8ad-68656c20e5aa"
      },
      "execution_count": 3,
      "outputs": [
        {
          "output_type": "stream",
          "name": "stdout",
          "text": [
            "20000\n",
            "50000\n",
            "Price can not be negative.\n",
            "50000\n",
            "Deleting the price of Laptop\n"
          ]
        }
      ]
    },
    {
      "cell_type": "markdown",
      "source": [
        "# 19. callable() and __call__()\n",
        "Assignment:\n",
        "\n",
        "Create a class Multiplier with an __init__() to set a factor. Define a __call__() method that multiplies an input by the factor. Test it with callable() and by calling the object like a function."
      ],
      "metadata": {
        "id": "reDdKhpiuDYd"
      }
    },
    {
      "cell_type": "code",
      "source": [
        "class Multiplier:\n",
        "  def __init__(self, factor):\n",
        "    self.factor = factor    # Setting the factor\n",
        "\n",
        "  def __call__(self, number):\n",
        "    # This method allows the object to be called like a function\n",
        "    return self.factor * number\n",
        "\n",
        "# Creating an instance of Multiplier with a factor of 5\n",
        "multiplier = Multiplier(5)\n",
        "\n",
        "# Testing with callable() to check if the object is callable\n",
        "print(callable(multiplier))    # output:   True, because __call__ makes it callable\n",
        "\n",
        "# Calling the object like a function to multiply an input by the factor\n",
        "result = multiplier(100)       # This calls __call__(100) method\n",
        "print(result)        # output:   500"
      ],
      "metadata": {
        "colab": {
          "base_uri": "https://localhost:8080/"
        },
        "id": "0CRVuv4zuOEI",
        "outputId": "f14e0822-4cb4-4ffd-e01b-127ec5cc9889"
      },
      "execution_count": 4,
      "outputs": [
        {
          "output_type": "stream",
          "name": "stdout",
          "text": [
            "True\n",
            "500\n"
          ]
        }
      ]
    },
    {
      "cell_type": "markdown",
      "source": [
        "# 20. Creating a Custom Exception\n",
        "Assignment:\n",
        "\n",
        "Create a custom exception InvalidAgeError. Write a function check_age(age) that raises this exception if age < 18. Handle it with try...except."
      ],
      "metadata": {
        "id": "sb2frNRN1nT-"
      }
    },
    {
      "cell_type": "code",
      "source": [
        "#  making own Custom error type class called InvalidAgeError\n",
        "class InvalidAgeError(Exception):   # It inherits from Python’s built-in Exception class.\n",
        "  def __init__(self, message = \"Age must be 18 or older\"):\n",
        "    self.message = message\n",
        "    super().__init__(self.message)\n",
        "\n",
        "  # Function to check age\n",
        "def check_age(age):\n",
        "    if age < 18:\n",
        "      raise InvalidAgeError(f\"Invalid age:  {age}. You must be 18 or older.\")\n",
        "    else:\n",
        "      print(f\"Age {age} is valid.\")\n",
        "\n",
        "  # Handling the exception using try, except\n",
        "try:\n",
        "    age = int(input(\"Enter your age: \"))\n",
        "    check_age(age)\n",
        "except InvalidAgeError as e:\n",
        "    print(f\"Error: {e}\")\n",
        "except ValueError:\n",
        "      print(\"Please enter a valid integer for age.\")"
      ],
      "metadata": {
        "colab": {
          "base_uri": "https://localhost:8080/"
        },
        "id": "KR3mbqMd1w7F",
        "outputId": "6a356868-6a48-4f6f-9084-0cbfd9801072"
      },
      "execution_count": 5,
      "outputs": [
        {
          "output_type": "stream",
          "name": "stdout",
          "text": [
            "Enter your age: 31\n",
            "Age 31 is valid.\n"
          ]
        }
      ]
    },
    {
      "cell_type": "markdown",
      "source": [
        "# 21. Make a Custom Class Iterable\n",
        "Assignment:\n",
        "\n",
        "Create a class Countdown that takes a start number. Implement __iter__() and __next__() to make the object iterable in a for-loop, counting down to 0."
      ],
      "metadata": {
        "id": "m22Wc4WVcVqH"
      }
    },
    {
      "cell_type": "code",
      "source": [
        "class Countdown:\n",
        "  def __init__(self, start):\n",
        "    self.start = start     # Set the starting number\n",
        "    self.current = start   # Initialize current to the starting number\n",
        "\n",
        "  def __iter__(self):\n",
        "    # Return the Iterator object itself\n",
        "    return self\n",
        "\n",
        "  def __next__(self):\n",
        "    # If current is less than 0 , stop the iteration\n",
        "    if self.current < 0:\n",
        "      raise StopIteration\n",
        "\n",
        "    # Decrease current by 1 and return the value\n",
        "    self.current -= 1\n",
        "    return self.current + 1    # Return the number before decrementing\n",
        "\n",
        "  # Creating an object for Countdown\n",
        "countdown = Countdown(6)\n",
        "\n",
        "# Using the Countdown object in a for loop\n",
        "for number in countdown:\n",
        "  print(number)"
      ],
      "metadata": {
        "colab": {
          "base_uri": "https://localhost:8080/"
        },
        "id": "dsV86RWKcb9C",
        "outputId": "366c19ba-7d51-4733-8f1b-518c61d79507"
      },
      "execution_count": 6,
      "outputs": [
        {
          "output_type": "stream",
          "name": "stdout",
          "text": [
            "6\n",
            "5\n",
            "4\n",
            "3\n",
            "2\n",
            "1\n",
            "0\n"
          ]
        }
      ]
    }
  ]
}